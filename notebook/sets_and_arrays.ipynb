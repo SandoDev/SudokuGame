{
 "cells": [
  {
   "cell_type": "code",
   "execution_count": 2,
   "metadata": {},
   "outputs": [],
   "source": [
    "import sys\n",
    "sys.path.append('../')\n",
    "from sudokus_manager.sudoku import Sudoku\n",
    "import numpy as np"
   ]
  },
  {
   "cell_type": "code",
   "execution_count": 30,
   "metadata": {},
   "outputs": [],
   "source": [
    "data = np.arange(13)\n",
    "data2 = np.arange(7,20)"
   ]
  },
  {
   "cell_type": "code",
   "execution_count": 57,
   "metadata": {},
   "outputs": [
    {
     "data": {
      "text/plain": [
       "(numpy.ndarray, array([ 7,  8,  9, 10, 11, 12, 13, 14, 15, 16, 17, 18, 19]))"
      ]
     },
     "execution_count": 57,
     "metadata": {},
     "output_type": "execute_result"
    }
   ],
   "source": [
    "type(data), data2"
   ]
  },
  {
   "cell_type": "code",
   "execution_count": 32,
   "metadata": {},
   "outputs": [],
   "source": [
    "data3 = data2 - data"
   ]
  },
  {
   "cell_type": "code",
   "execution_count": 45,
   "metadata": {},
   "outputs": [],
   "source": [
    "data4 = data | data2"
   ]
  },
  {
   "cell_type": "code",
   "execution_count": 46,
   "metadata": {},
   "outputs": [
    {
     "data": {
      "text/plain": [
       "array([ 7,  9, 11, 11, 15, 13, 15, 15, 15, 25, 27, 27, 31])"
      ]
     },
     "execution_count": 46,
     "metadata": {},
     "output_type": "execute_result"
    }
   ],
   "source": [
    "data4"
   ]
  },
  {
   "cell_type": "code",
   "execution_count": 38,
   "metadata": {},
   "outputs": [
    {
     "data": {
      "text/plain": [
       "1196"
      ]
     },
     "execution_count": 38,
     "metadata": {},
     "output_type": "execute_result"
    }
   ],
   "source": [
    "np.inner(data,data2)"
   ]
  },
  {
   "cell_type": "code",
   "execution_count": 37,
   "metadata": {},
   "outputs": [
    {
     "name": "stdout",
     "output_type": "stream",
     "text": [
      "15\n",
      "[11 12 13 14 15 16 17 18 19 20] [ 0  2  3  4  5  6  7 12 13 14]\n"
     ]
    }
   ],
   "source": [
    "a = np.array([11, 11, 12, 13, 14, 15, 16, 17, 12, 13, 11, 14, 18, 19, 20])\n",
    "print(len(a))\n",
    "unique_values, indices_list = np.unique(a, return_index=True)\n",
    "print(unique_values,indices_list)"
   ]
  },
  {
   "cell_type": "code",
   "execution_count": 83,
   "metadata": {},
   "outputs": [],
   "source": [
    "from array import *\n",
    "c1 = {1, 2, 3, 4, 5, 6}\n",
    "c2 = {2, 4, 6, 8, 10}\n",
    "c3 = {1, 2, 3}\n",
    "c4 = {4, 5, 6}\n",
    "\n",
    "c5 = list(c4)\n",
    "c6 = set(c5)"
   ]
  },
  {
   "cell_type": "code",
   "execution_count": 89,
   "metadata": {},
   "outputs": [
    {
     "data": {
      "text/plain": [
       "({4, 5, 6}, [4, 5, 6], {4, 5, 6})"
      ]
     },
     "execution_count": 89,
     "metadata": {},
     "output_type": "execute_result"
    }
   ],
   "source": [
    "c4, c5, c6"
   ]
  },
  {
   "cell_type": "code",
   "execution_count": 61,
   "metadata": {},
   "outputs": [
    {
     "data": {
      "text/plain": [
       "{1, 2, 3, 4, 5, 6, 8, 10}"
      ]
     },
     "execution_count": 61,
     "metadata": {},
     "output_type": "execute_result"
    }
   ],
   "source": [
    "c1 | c2"
   ]
  },
  {
   "cell_type": "code",
   "execution_count": 62,
   "metadata": {},
   "outputs": [
    {
     "data": {
      "text/plain": [
       "{1, 2, 3, 4, 5, 6, 8, 10}"
      ]
     },
     "execution_count": 62,
     "metadata": {},
     "output_type": "execute_result"
    }
   ],
   "source": [
    "c1 | c2 | c3"
   ]
  },
  {
   "cell_type": "code",
   "execution_count": 63,
   "metadata": {},
   "outputs": [
    {
     "data": {
      "text/plain": [
       "{2, 4, 6}"
      ]
     },
     "execution_count": 63,
     "metadata": {},
     "output_type": "execute_result"
    }
   ],
   "source": [
    "c1 & c2"
   ]
  },
  {
   "cell_type": "code",
   "execution_count": 69,
   "metadata": {},
   "outputs": [
    {
     "data": {
      "text/plain": [
       "set()"
      ]
     },
     "execution_count": 69,
     "metadata": {},
     "output_type": "execute_result"
    }
   ],
   "source": [
    "c1 & c2 & c3 & c4"
   ]
  },
  {
   "cell_type": "code",
   "execution_count": 66,
   "metadata": {},
   "outputs": [
    {
     "data": {
      "text/plain": [
       "{1, 2, 3, 4, 5, 6, 8, 10}"
      ]
     },
     "execution_count": 66,
     "metadata": {},
     "output_type": "execute_result"
    }
   ],
   "source": [
    "c1.union(c2)"
   ]
  },
  {
   "cell_type": "code",
   "execution_count": 67,
   "metadata": {},
   "outputs": [
    {
     "data": {
      "text/plain": [
       "{2}"
      ]
     },
     "execution_count": 67,
     "metadata": {},
     "output_type": "execute_result"
    }
   ],
   "source": [
    "c1.intersection(c2, c3)"
   ]
  },
  {
   "cell_type": "code",
   "execution_count": 70,
   "metadata": {},
   "outputs": [
    {
     "data": {
      "text/plain": [
       "{1, 3, 5}"
      ]
     },
     "execution_count": 70,
     "metadata": {},
     "output_type": "execute_result"
    }
   ],
   "source": [
    "c1 - c2"
   ]
  },
  {
   "cell_type": "code",
   "execution_count": 71,
   "metadata": {},
   "outputs": [
    {
     "data": {
      "text/plain": [
       "{1, 3, 5, 8, 10}"
      ]
     },
     "execution_count": 71,
     "metadata": {},
     "output_type": "execute_result"
    }
   ],
   "source": [
    "c1 ^ c2"
   ]
  },
  {
   "cell_type": "code",
   "execution_count": 72,
   "metadata": {},
   "outputs": [
    {
     "data": {
      "text/plain": [
       "{1, 3, 5}"
      ]
     },
     "execution_count": 72,
     "metadata": {},
     "output_type": "execute_result"
    }
   ],
   "source": [
    "c1.difference(c2)"
   ]
  },
  {
   "cell_type": "raw",
   "metadata": {},
   "source": [
    "Objetivo: aprender a realizar operaciones como la unión, intersección y diferencia de conjuntos en Python.\n",
    "\n",
    "Continuamos nuestro repaso al tipo set en Python aprendiendo, por fin. a realizar las operaciones clásicas por antonomasia.\n",
    "\n",
    "Definamos antes algunos conjuntos sobre los que practicar:\n",
    "\n",
    ">>> c1 = {1, 2, 3, 4, 5, 6}\n",
    ">>> c2 = {2, 4, 6, 8, 10}\n",
    ">>> c3 = {1, 2, 3}\n",
    ">>> c4 = {4, 5, 6}\n",
    "Empecemos por la unión de dos conjuntos, definida como el conjunto de elementos que están en uno o en otro (o en ambos).\n",
    "\n",
    ">>> c1 | c2\n",
    "{1, 2, 3, 4, 5, 6, 8, 10}\n",
    "Podemos incluir más de dos operandos:\n",
    "\n",
    ">>> c1 | c2 | c3\n",
    "{1, 2, 3, 4, 5, 6, 8, 10}\n",
    "Y seguimos con la intersección: el conjunto de elementos que estan en ambos.\n",
    "\n",
    ">>> c1 & c2\n",
    "{2, 4, 6}\n",
    ">>> c1 & c2 & c3 & c4\n",
    "set()       # El conjunto vacío\n",
    "Estos operadores también tienen variantes como métodos del objeto set. Observa su uso autoexplicativo:\n",
    "\n",
    ">>> c1.union(c2)\n",
    "{1, 2, 3, 4, 5, 6, 8, 10}\n",
    ">>> c1.intersection(c2, c3)\n",
    "{2}\n",
    "La diferencia de dos conjuntos A y B, A – B, es el conjunto de elementos que están en A pero no en B. En Python se implementa con un operador de resta simple (-):\n",
    "\n",
    ">>> c1 - c2\n",
    "{1, 3, 5}\n",
    "La unión exclusiva, también conocida como diferencia simétrica, es el conjunto de elementos que están en A o B, pero no en ambos:\n",
    "\n",
    ">>> c1 ^ c2\n",
    "{1, 3, 5, 8, 10}\n",
    "Compara este resultado con la unión, calculada anteriormente.\n",
    "\n",
    "También existe versión método para estos operadores:\n",
    "\n",
    ">>> c1.difference(c2)\n",
    "{1, 3, 5}\n",
    ">>> c1.symmetric_difference(c2)\n",
    "{1, 3, 5, 8, 10}\n",
    "Más adelante conoceremos situaciones en las que será más interesante usar los métodos que los operadores, aunque ahora quizás te resulte redundante.\n",
    "\n",
    "Aún nos quedan algunos métodos por conocer relacionados con los conjuntos, pero no dispongo de más tiempo por hoy, de modo que los dejaremos para la siguiente ocasión.\n",
    "\n",
    "Para finalizar, un pequeño consejito: conoce bien las estructuras de datos y el tipo de operaciones que puedes realizar con ellas. Con frecuencia, resolver elegantemente un problema de programación no se reduce a otra cosa sino a elegir la estructura de datos más adecuada."
   ]
  },
  {
   "cell_type": "code",
   "execution_count": 100,
   "metadata": {},
   "outputs": [],
   "source": [
    "none = {0, 1, 2, 3, 6, 7}\n",
    "values = {0, 1, 2, 3, 5, 6, 7, 8}"
   ]
  },
  {
   "cell_type": "code",
   "execution_count": 101,
   "metadata": {},
   "outputs": [
    {
     "data": {
      "text/plain": [
       "[8, 5]"
      ]
     },
     "execution_count": 101,
     "metadata": {},
     "output_type": "execute_result"
    }
   ],
   "source": [
    "list(values - none)"
   ]
  }
 ],
 "metadata": {
  "kernelspec": {
   "display_name": "Python 3.6.9 64-bit ('venv': venv)",
   "language": "python",
   "name": "python36964bitvenvvenv99446315da2547a2975183be1f6cd674"
  },
  "language_info": {
   "codemirror_mode": {
    "name": "ipython",
    "version": 3
   },
   "file_extension": ".py",
   "mimetype": "text/x-python",
   "name": "python",
   "nbconvert_exporter": "python",
   "pygments_lexer": "ipython3",
   "version": "3.6.9"
  }
 },
 "nbformat": 4,
 "nbformat_minor": 4
}
