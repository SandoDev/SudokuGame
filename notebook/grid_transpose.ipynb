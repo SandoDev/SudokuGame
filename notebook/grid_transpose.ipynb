{
 "cells": [
  {
   "cell_type": "code",
   "execution_count": 1,
   "metadata": {},
   "outputs": [],
   "source": [
    "import sys\n",
    "sys.path.append('../')\n",
    "from sudokus_manager.sudoku import Sudoku"
   ]
  },
  {
   "cell_type": "code",
   "execution_count": 2,
   "metadata": {},
   "outputs": [],
   "source": [
    "sudoku = Sudoku()"
   ]
  },
  {
   "cell_type": "code",
   "execution_count": 3,
   "metadata": {},
   "outputs": [
    {
     "data": {
      "text/plain": [
       "True"
      ]
     },
     "execution_count": 3,
     "metadata": {},
     "output_type": "execute_result"
    }
   ],
   "source": [
    "line = [1,2,3,4,5,6,7,8,9]\n",
    "sudoku.validate_line(line)"
   ]
  },
  {
   "cell_type": "code",
   "execution_count": 3,
   "metadata": {},
   "outputs": [
    {
     "name": "stdout",
     "output_type": "stream",
     "text": [
      "[[8, 4, 1, 1, 6, 6, 8, 1, 2], [4, 2, 4, 1, 8, 8, 7, 3, 8], [6, 4, 4, 1, 1, 9, 9, 1, 5], [5, 6, 8, 9, 4, 8, 2, 1, 2], [1, 3, 5, 8, 1, 4, 7, 4, 5], [6, 6, 4, 3, 6, 3, 9, 8, 1], [9, 4, 1, 9, 9, 9, 2, 6, 9], [3, 9, 1, 4, 8, 1, 1, 8, 2], [2, 8, 1, 2, 4, 3, 9, 5, 2]]\n"
     ]
    }
   ],
   "source": [
    "sudoku.create_sudoku()\n",
    "print(sudoku.sudoku)"
   ]
  },
  {
   "cell_type": "code",
   "execution_count": 5,
   "metadata": {},
   "outputs": [],
   "source": [
    "block = sudoku.sudoku"
   ]
  },
  {
   "cell_type": "code",
   "execution_count": 5,
   "metadata": {},
   "outputs": [],
   "source": [
    "# print block\n",
    "for f in range(len(block)):\n",
    "    for c in range(len(block)):\n",
    "        print(\"[\", block[f][c], \"]\", end=\"\")\n",
    "    print()"
   ]
  },
  {
   "cell_type": "code",
   "execution_count": 59,
   "metadata": {},
   "outputs": [
    {
     "data": {
      "text/plain": [
       "9"
      ]
     },
     "execution_count": 59,
     "metadata": {},
     "output_type": "execute_result"
    }
   ],
   "source": [
    "len(block)"
   ]
  },
  {
   "cell_type": "code",
   "execution_count": 60,
   "metadata": {},
   "outputs": [
    {
     "name": "stdout",
     "output_type": "stream",
     "text": [
      "iteración[0]: [6, 4, 6, 7, 6, 2, 2, 7, 8]\n",
      "iteración[1]: [3, 5, 2, 6, 7, 3, 9, 2, 1]\n",
      "iteración[2]: [7, 3, 6, 6, 7, 9, 1, 6, 8]\n",
      "iteración[3]: [5, 2, 7, 7, 8, 7, 7, 8, 9]\n",
      "iteración[4]: [6, 8, 3, 9, 6, 2, 3, 8, 9]\n",
      "iteración[5]: [2, 3, 6, 3, 2, 1, 2, 7, 7]\n",
      "iteración[6]: [5, 8, 5, 7, 3, 1, 4, 9, 6]\n",
      "iteración[7]: [9, 6, 5, 7, 5, 8, 7, 8, 5]\n",
      "iteración[8]: [9, 6, 1, 3, 4, 4, 8, 5, 8]\n"
     ]
    }
   ],
   "source": [
    "for i in range(len(block)):\n",
    "    print(\"iteración[\"+str(i)+\"]: \" + str(block[i]))"
   ]
  },
  {
   "cell_type": "code",
   "execution_count": 61,
   "metadata": {},
   "outputs": [
    {
     "name": "stdout",
     "output_type": "stream",
     "text": [
      "[6, 4, 6, 7, 6, 2, 2, 7, 8]\n",
      "[3, 5, 2, 6, 7, 3, 9, 2, 1]\n",
      "[7, 3, 6, 6, 7, 9, 1, 6, 8]\n",
      "[5, 2, 7, 7, 8, 7, 7, 8, 9]\n",
      "[6, 8, 3, 9, 6, 2, 3, 8, 9]\n",
      "[2, 3, 6, 3, 2, 1, 2, 7, 7]\n",
      "[5, 8, 5, 7, 3, 1, 4, 9, 6]\n",
      "[9, 6, 5, 7, 5, 8, 7, 8, 5]\n",
      "[9, 6, 1, 3, 4, 4, 8, 5, 8]\n"
     ]
    }
   ],
   "source": [
    "for row in block:\n",
    "    print(row)"
   ]
  },
  {
   "cell_type": "code",
   "execution_count": 62,
   "metadata": {},
   "outputs": [],
   "source": [
    "blockT = np.transpose(block)"
   ]
  },
  {
   "cell_type": "code",
   "execution_count": 63,
   "metadata": {},
   "outputs": [
    {
     "name": "stdout",
     "output_type": "stream",
     "text": [
      "iteración[0]: [6, 3, 7, 5, 6, 2, 5, 9, 9]\n",
      "iteración[1]: [4, 5, 3, 2, 8, 3, 8, 6, 6]\n",
      "iteración[2]: [6, 2, 6, 7, 3, 6, 5, 5, 1]\n",
      "iteración[3]: [7, 6, 6, 7, 9, 3, 7, 7, 3]\n",
      "iteración[4]: [6, 7, 7, 8, 6, 2, 3, 5, 4]\n",
      "iteración[5]: [2, 3, 9, 7, 2, 1, 1, 8, 4]\n",
      "iteración[6]: [2, 9, 1, 7, 3, 2, 4, 7, 8]\n",
      "iteración[7]: [7, 2, 6, 8, 8, 7, 9, 8, 5]\n",
      "iteración[8]: [8, 1, 8, 9, 9, 7, 6, 5, 8]\n"
     ]
    }
   ],
   "source": [
    "for i in range(len(blockT)):\n",
    "    print(\"iteración[\"+str(i)+\"]: \" + str(list(blockT[i])))"
   ]
  },
  {
   "cell_type": "code",
   "execution_count": 51,
   "metadata": {},
   "outputs": [
    {
     "data": {
      "text/plain": [
       "[8, 7, 7, 3, 2, 5, 6, 1, 8]"
      ]
     },
     "execution_count": 51,
     "metadata": {},
     "output_type": "execute_result"
    }
   ],
   "source": [
    "list(blockT[0])"
   ]
  },
  {
   "cell_type": "code",
   "execution_count": 8,
   "metadata": {},
   "outputs": [],
   "source": [
    "block[0] = [1,2,3,4,5,6,7,8,9]"
   ]
  },
  {
   "cell_type": "code",
   "execution_count": 6,
   "metadata": {},
   "outputs": [
    {
     "name": "stdout",
     "output_type": "stream",
     "text": [
      "[[0], [0], [0], [0], [0], [0], [0], [0], [0]]\n",
      "[[0, 8, 4, 1, 4, 2, 4, 6, 4, 4], [0], [0], [0], [0], [0], [0], [0], [0]]\n",
      "[False, False, False, False, False, False, False, False, False]\n",
      "[False, False, False, False, False, False, False, False, False]\n",
      "[False, False, False, False, False, False, False, False, False]\n"
     ]
    }
   ],
   "source": [
    "sudoku.validate_grid(block)"
   ]
  },
  {
   "cell_type": "code",
   "execution_count": 7,
   "metadata": {},
   "outputs": [
    {
     "name": "stdout",
     "output_type": "stream",
     "text": [
      "[1, 6, 4, 7, 8, 4, 1, 2, 1]\n",
      "[4, 1, 1, 6, 4, 4, 3, 4, 7]\n",
      "[1, 6, 3, 6, 3, 3, 2, 6, 6]\n",
      "[7, 5, 8, 7, 4, 6, 2, 7, 1]\n",
      "[6, 8, 4, 4, 5, 6, 3, 4, 6]\n",
      "[1, 8, 3, 5, 1, 3, 2, 8, 4]\n",
      "[8, 7, 2, 6, 1, 5, 3, 9, 5]\n",
      "[6, 4, 9, 5, 7, 7, 9, 8, 3]\n",
      "[2, 7, 5, 4, 3, 7, 3, 5, 1]\n"
     ]
    }
   ],
   "source": [
    "for index, num in enumerate(block):\n",
    "    print(str(list(num)))"
   ]
  },
  {
   "cell_type": "code",
   "execution_count": 10,
   "metadata": {
    "collapsed": true,
    "jupyter": {
     "outputs_hidden": true
    }
   },
   "outputs": [
    {
     "ename": "NameError",
     "evalue": "name 'np' is not defined",
     "output_type": "error",
     "traceback": [
      "\u001b[0;31m---------------------------------------------------------------------------\u001b[0m",
      "\u001b[0;31mNameError\u001b[0m                                 Traceback (most recent call last)",
      "\u001b[0;32m<ipython-input-10-39a6e5ec540e>\u001b[0m in \u001b[0;36m<module>\u001b[0;34m\u001b[0m\n\u001b[1;32m      7\u001b[0m     \u001b[0mhorizontal\u001b[0m\u001b[0;34m[\u001b[0m\u001b[0mindex\u001b[0m\u001b[0;34m]\u001b[0m \u001b[0;34m=\u001b[0m \u001b[0msudoku\u001b[0m\u001b[0;34m.\u001b[0m\u001b[0mvalidate_line\u001b[0m\u001b[0;34m(\u001b[0m\u001b[0mlist\u001b[0m\u001b[0;34m(\u001b[0m\u001b[0mrow\u001b[0m\u001b[0;34m)\u001b[0m\u001b[0;34m)\u001b[0m\u001b[0;34m\u001b[0m\u001b[0;34m\u001b[0m\u001b[0m\n\u001b[1;32m      8\u001b[0m \u001b[0;34m\u001b[0m\u001b[0m\n\u001b[0;32m----> 9\u001b[0;31m \u001b[0mgrid_transpose\u001b[0m \u001b[0;34m=\u001b[0m \u001b[0mnp\u001b[0m\u001b[0;34m.\u001b[0m\u001b[0mtranspose\u001b[0m\u001b[0;34m(\u001b[0m\u001b[0mblock\u001b[0m\u001b[0;34m)\u001b[0m\u001b[0;34m\u001b[0m\u001b[0;34m\u001b[0m\u001b[0m\n\u001b[0m\u001b[1;32m     10\u001b[0m \u001b[0;34m\u001b[0m\u001b[0m\n\u001b[1;32m     11\u001b[0m \u001b[0;32mfor\u001b[0m \u001b[0mindex\u001b[0m\u001b[0;34m,\u001b[0m \u001b[0mcolumn\u001b[0m \u001b[0;32min\u001b[0m \u001b[0menumerate\u001b[0m\u001b[0;34m(\u001b[0m\u001b[0mgrid_transpose\u001b[0m\u001b[0;34m)\u001b[0m\u001b[0;34m:\u001b[0m\u001b[0;34m\u001b[0m\u001b[0;34m\u001b[0m\u001b[0m\n",
      "\u001b[0;31mNameError\u001b[0m: name 'np' is not defined"
     ]
    }
   ],
   "source": [
    "vertical = [False, False, False, False,\n",
    "            False, False, False, False, False]\n",
    "horizontal = [False, False, False, False,\n",
    "              False, False, False, False, False]\n",
    "\n",
    "for index, row in enumerate(block):\n",
    "    horizontal[index] = sudoku.validate_line(list(row))\n",
    "\n",
    "grid_transpose = np.transpose(block)\n",
    "\n",
    "for index, column in enumerate(grid_transpose):\n",
    "    vertical[index] = sudoku.validate_line(list(column))\n",
    "    \n",
    "print(horizontal)\n",
    "print(vertical)"
   ]
  },
  {
   "cell_type": "code",
   "execution_count": 16,
   "metadata": {},
   "outputs": [
    {
     "name": "stdout",
     "output_type": "stream",
     "text": [
      "[[0, 0, 0, 0, 0, 0, 0, 0, 0], [0, 0, 0, 0, 0, 0, 0, 0, 0], [0, 0, 0, 0, 0, 0, 0, 0, 0], [0, 0, 0, 0, 0, 0, 0, 0, 0], [0, 0, 0, 0, 0, 0, 0, 0, 0], [0, 0, 0, 0, 0, 0, 0, 0, 0], [0, 0, 0, 0, 0, 0, 0, 0, 0], [0, 0, 0, 0, 0, 0, 0, 0, 0], [0, 0, 0, 0, 0, 0, 0, 0, 0]]\n"
     ]
    }
   ],
   "source": [
    "grilla = []\n",
    "\n",
    "for i in range(9):\n",
    "    grilla.append([0]*9)\n",
    "    \n",
    "print(grilla)"
   ]
  }
 ],
 "metadata": {
  "kernelspec": {
   "display_name": "Python 3",
   "language": "python",
   "name": "python3"
  },
  "language_info": {
   "codemirror_mode": {
    "name": "ipython",
    "version": 3
   },
   "file_extension": ".py",
   "mimetype": "text/x-python",
   "name": "python",
   "nbconvert_exporter": "python",
   "pygments_lexer": "ipython3",
   "version": "3.6.9"
  }
 },
 "nbformat": 4,
 "nbformat_minor": 4
}
