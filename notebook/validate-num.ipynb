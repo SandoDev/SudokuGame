{
 "cells": [
  {
   "cell_type": "code",
   "execution_count": 1,
   "metadata": {},
   "outputs": [],
   "source": [
    "rows = [2,2,3,4]\n",
    "num = 1\n",
    "num_row = num in rows"
   ]
  },
  {
   "cell_type": "code",
   "execution_count": 2,
   "metadata": {},
   "outputs": [
    {
     "data": {
      "text/plain": [
       "False"
      ]
     },
     "execution_count": 2,
     "metadata": {},
     "output_type": "execute_result"
    }
   ],
   "source": [
    "num_row"
   ]
  },
  {
   "cell_type": "code",
   "execution_count": 12,
   "metadata": {},
   "outputs": [],
   "source": [
    "import colorama\n",
    "from colorama import Fore, Back, Style\n"
   ]
  },
  {
   "cell_type": "code",
   "execution_count": 15,
   "metadata": {},
   "outputs": [
    {
     "name": "stdout",
     "output_type": "stream",
     "text": [
      "Hola mundo\n"
     ]
    }
   ],
   "source": [
    "print(Back.WHITE + Fore.BLACK + \"Hola mundo\")\n",
    "print(Style.RESET_ALL, end=\"\")"
   ]
  },
  {
   "cell_type": "code",
   "execution_count": 1,
   "metadata": {},
   "outputs": [],
   "source": [
    "import sys\n",
    "sys.path.append('../')\n",
    "from sudokus_manager.sudoku import Sudoku"
   ]
  },
  {
   "cell_type": "code",
   "execution_count": 2,
   "metadata": {},
   "outputs": [],
   "source": [
    "sudo = Sudoku()\n",
    "sudo.create_sudoku()"
   ]
  },
  {
   "cell_type": "code",
   "execution_count": 3,
   "metadata": {},
   "outputs": [
    {
     "data": {
      "text/plain": [
       "[[5, 3, 4, 2, 2, 9, 7, 4, 2],\n",
       " [9, 2, 1, 7, 9, 4, 9, 5, 1],\n",
       " [6, 5, 3, 2, 3, 5, 9, 8, 6],\n",
       " [3, 3, 1, 3, 2, 9, 6, 9, 2],\n",
       " [5, 8, 7, 9, 3, 9, 8, 9, 7],\n",
       " [3, 4, 9, 1, 6, 1, 4, 9, 2],\n",
       " [5, 7, 7, 1, 3, 4, 3, 5, 9],\n",
       " [4, 1, 9, 3, 1, 4, 7, 3, 1],\n",
       " [9, 1, 2, 7, 2, 3, 2, 4, 6]]"
      ]
     },
     "execution_count": 3,
     "metadata": {},
     "output_type": "execute_result"
    }
   ],
   "source": [
    "sudo.sudoku"
   ]
  },
  {
   "cell_type": "code",
   "execution_count": 4,
   "metadata": {},
   "outputs": [
    {
     "name": "stdout",
     "output_type": "stream",
     "text": [
      "--------ROWS----------\n",
      "[ 0 ][ 0 ][ 0 ][ 0 ][ 0 ][ 0 ][ 0 ][ 0 ][ 0 ]\n",
      "[ 0 ][ 0 ][ 0 ][ 0 ][ 0 ][ 0 ][ 0 ][ 0 ][ 0 ]\n",
      "[ 0 ][ 0 ][ 0 ][ 0 ][ 0 ][ 0 ][ 0 ][ 0 ][ 0 ]\n",
      "[ 0 ][ 0 ][ 0 ][ 0 ][ 0 ][ 0 ][ 0 ][ 0 ][ 0 ]\n",
      "[ 0 ][ 0 ][ 0 ][ 0 ][ 0 ][ 0 ][ 0 ][ 0 ][ 0 ]\n",
      "[ 0 ][ 0 ][ 0 ][ 0 ][ 0 ][ 0 ][ 0 ][ 0 ][ 0 ]\n",
      "[ 0 ][ 0 ][ 0 ][ 0 ][ 0 ][ 0 ][ 0 ][ 0 ][ 0 ]\n",
      "[ 0 ][ 0 ][ 0 ][ 0 ][ 0 ][ 0 ][ 0 ][ 0 ][ 0 ]\n",
      "[ 0 ][ 0 ][ 0 ][ 0 ][ 0 ][ 0 ][ 0 ][ 0 ][ 0 ]\n",
      "--------COLUMNS----------\n",
      "[ 0 ][ 0 ][ 0 ][ 0 ][ 0 ][ 0 ][ 0 ][ 0 ][ 0 ]\n",
      "[ 0 ][ 0 ][ 0 ][ 0 ][ 0 ][ 0 ][ 0 ][ 0 ][ 0 ]\n",
      "[ 0 ][ 0 ][ 0 ][ 0 ][ 0 ][ 0 ][ 0 ][ 0 ][ 0 ]\n",
      "[ 0 ][ 0 ][ 0 ][ 0 ][ 0 ][ 0 ][ 0 ][ 0 ][ 0 ]\n",
      "[ 0 ][ 0 ][ 0 ][ 0 ][ 0 ][ 0 ][ 0 ][ 0 ][ 0 ]\n",
      "[ 0 ][ 0 ][ 0 ][ 0 ][ 0 ][ 0 ][ 0 ][ 0 ][ 0 ]\n",
      "[ 0 ][ 0 ][ 0 ][ 0 ][ 0 ][ 0 ][ 0 ][ 0 ][ 0 ]\n",
      "[ 0 ][ 0 ][ 0 ][ 0 ][ 0 ][ 0 ][ 0 ][ 0 ][ 0 ]\n",
      "[ 0 ][ 0 ][ 0 ][ 0 ][ 0 ][ 0 ][ 0 ][ 0 ][ 0 ]\n",
      "--------BLOCKS----------\n",
      "[ 0 ][ 0 ][ 0 ][ 0 ][ 0 ][ 0 ][ 0 ][ 0 ][ 0 ]\n",
      "[ 0 ][ 0 ][ 0 ][ 0 ][ 0 ][ 0 ][ 0 ][ 0 ][ 0 ]\n",
      "[ 0 ][ 0 ][ 0 ][ 0 ][ 0 ][ 0 ][ 0 ][ 0 ][ 0 ]\n",
      "[ 0 ][ 0 ][ 0 ][ 0 ][ 0 ][ 0 ][ 0 ][ 0 ][ 0 ]\n",
      "[ 0 ][ 0 ][ 0 ][ 0 ][ 0 ][ 0 ][ 0 ][ 0 ][ 0 ]\n",
      "[ 0 ][ 0 ][ 0 ][ 0 ][ 0 ][ 0 ][ 0 ][ 0 ][ 0 ]\n",
      "[ 0 ][ 0 ][ 0 ][ 0 ][ 0 ][ 0 ][ 0 ][ 0 ][ 0 ]\n",
      "[ 0 ][ 0 ][ 0 ][ 0 ][ 0 ][ 0 ][ 0 ][ 0 ][ 0 ]\n",
      "[ 0 ][ 0 ][ 0 ][ 0 ][ 0 ][ 0 ][ 0 ][ 0 ][ 0 ]\n"
     ]
    }
   ],
   "source": [
    "rows = sudo.inicializate_sudoku(9,9)\n",
    "print(\"--------ROWS----------\")\n",
    "sudo.print_sudoku(rows,1)\n",
    "columns = sudo.inicializate_sudoku(9,9)\n",
    "print(\"--------COLUMNS----------\")\n",
    "sudo.print_sudoku(columns,2)\n",
    "blocks = sudo.inicializate_sudoku(9,9)\n",
    "print(\"--------BLOCKS----------\")\n",
    "sudo.print_sudoku(blocks,3)"
   ]
  },
  {
   "cell_type": "code",
   "execution_count": 6,
   "metadata": {},
   "outputs": [],
   "source": [
    "import numpy as np"
   ]
  },
  {
   "cell_type": "code",
   "execution_count": 27,
   "metadata": {},
   "outputs": [],
   "source": [
    "list = []\n",
    "grid3 = int(len(sudo.sudoku)/3)\n",
    "for f, da in enumerate(sudo.sudoku):\n",
    "    for c, dat in enumerate(sudo.sudoku):\n",
    "        if ((f < grid3) and (c < grid3)):\n",
    "            list.append(sudo.sudoku[f][c])"
   ]
  },
  {
   "cell_type": "code",
   "execution_count": 28,
   "metadata": {},
   "outputs": [
    {
     "data": {
      "text/plain": [
       "[5, 3, 4, 9, 2, 1, 6, 5, 3]"
      ]
     },
     "execution_count": 28,
     "metadata": {},
     "output_type": "execute_result"
    }
   ],
   "source": [
    "list"
   ]
  },
  {
   "cell_type": "code",
   "execution_count": 30,
   "metadata": {},
   "outputs": [],
   "source": [
    "f = 3\n",
    "c = 6\n",
    "rows[f] = sudo.sudoku[f]\n",
    "blocks[0] = list\n",
    "trans = np.transpose(sudo.sudoku)\n",
    "col = np.transpose(columns)\n",
    "col[c] = trans[c]\n",
    "columns = np.transpose(col)"
   ]
  },
  {
   "cell_type": "code",
   "execution_count": 33,
   "metadata": {},
   "outputs": [
    {
     "data": {
      "text/plain": [
       "([3, 3, 1, 3, 2, 9, 6, 9, 2],\n",
       " array([[0, 0, 0, 0, 0, 0, 7, 0, 0],\n",
       "        [0, 0, 0, 0, 0, 0, 9, 0, 0],\n",
       "        [0, 0, 0, 0, 0, 0, 9, 0, 0],\n",
       "        [0, 0, 0, 0, 0, 0, 6, 0, 0],\n",
       "        [0, 0, 0, 0, 0, 0, 8, 0, 0],\n",
       "        [0, 0, 0, 0, 0, 0, 4, 0, 0],\n",
       "        [0, 0, 0, 0, 0, 0, 3, 0, 0],\n",
       "        [0, 0, 0, 0, 0, 0, 7, 0, 0],\n",
       "        [0, 0, 0, 0, 0, 0, 2, 0, 0]]),\n",
       " [5, 3, 4, 9, 2, 1, 6, 5, 3])"
      ]
     },
     "execution_count": 33,
     "metadata": {},
     "output_type": "execute_result"
    }
   ],
   "source": [
    "rows[f], columns, blocks[0]"
   ]
  },
  {
   "cell_type": "code",
   "execution_count": 34,
   "metadata": {},
   "outputs": [],
   "source": [
    "num = 2\n",
    "num_row = num in rows[f]\n",
    "columns2 = np.transpose(columns)\n",
    "num_column = num in columns2[c]\n",
    "num_block = num in blocks[0]"
   ]
  },
  {
   "cell_type": "code",
   "execution_count": 90,
   "metadata": {},
   "outputs": [],
   "source": [
    "num_column = False\n",
    "num_row = False\n",
    "num_block = False"
   ]
  },
  {
   "cell_type": "code",
   "execution_count": 62,
   "metadata": {},
   "outputs": [
    {
     "data": {
      "text/plain": [
       "(True, True, True)"
      ]
     },
     "execution_count": 62,
     "metadata": {},
     "output_type": "execute_result"
    }
   ],
   "source": [
    "num_column, num_row, num_block"
   ]
  },
  {
   "cell_type": "code",
   "execution_count": 69,
   "metadata": {},
   "outputs": [
    {
     "name": "stdout",
     "output_type": "stream",
     "text": [
      "False\n"
     ]
    }
   ],
   "source": [
    "data = num_row and num_column and num_block\n",
    "print(data)"
   ]
  },
  {
   "cell_type": "code",
   "execution_count": 91,
   "metadata": {},
   "outputs": [
    {
     "name": "stdout",
     "output_type": "stream",
     "text": [
      "Todas falsas\n",
      "False False False\n"
     ]
    }
   ],
   "source": [
    "if num_row and num_column and num_block:\n",
    "    print(\"Todas verdaderas\")\n",
    "    print(num_row, num_column, num_block)\n",
    "elif num_row and num_column:\n",
    "    print(\"solo fila y columna verdaderas\")\n",
    "    print(num_row, num_column, num_block)\n",
    "elif num_column and num_block:\n",
    "    print(\"solo bloque y columna verdaderas\")\n",
    "    print(num_row, num_column, num_block)\n",
    "elif num_row and num_block:\n",
    "    print(\"solo fila y bloque verdaderas\")\n",
    "    print(num_row, num_column, num_block)\n",
    "elif num_row:\n",
    "    print(\"solo fila verdadera\")\n",
    "    print(num_row, num_column, num_block)\n",
    "elif num_column:\n",
    "    print(\"solo columna verdadera\")\n",
    "    print(num_row, num_column, num_block)\n",
    "elif num_block:\n",
    "    print(\"solo bloque verdadera\")\n",
    "    print(num_row, num_column, num_block)\n",
    "else:\n",
    "    print(\"Todas falsas\")\n",
    "    print(num_row, num_column, num_block)"
   ]
  }
 ],
 "metadata": {
  "kernelspec": {
   "display_name": "Python 3.6.9 64-bit",
   "language": "python",
   "name": "python36964bit16e0228add934a169e11b987cba4bd2b"
  },
  "language_info": {
   "codemirror_mode": {
    "name": "ipython",
    "version": 3
   },
   "file_extension": ".py",
   "mimetype": "text/x-python",
   "name": "python",
   "nbconvert_exporter": "python",
   "pygments_lexer": "ipython3",
   "version": "3.6.9"
  }
 },
 "nbformat": 4,
 "nbformat_minor": 4
}
