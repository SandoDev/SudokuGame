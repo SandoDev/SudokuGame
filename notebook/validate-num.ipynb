{
 "cells": [
  {
   "cell_type": "code",
   "execution_count": 1,
   "metadata": {},
   "outputs": [],
   "source": [
    "rows = [2,2,3,4]\n",
    "num = 1\n",
    "num_row = num in rows"
   ]
  },
  {
   "cell_type": "code",
   "execution_count": 2,
   "metadata": {},
   "outputs": [
    {
     "data": {
      "text/plain": [
       "False"
      ]
     },
     "execution_count": 2,
     "metadata": {},
     "output_type": "execute_result"
    }
   ],
   "source": [
    "num_row"
   ]
  },
  {
   "cell_type": "code",
   "execution_count": 12,
   "metadata": {},
   "outputs": [],
   "source": [
    "import colorama\n",
    "from colorama import Fore, Back, Style\n"
   ]
  },
  {
   "cell_type": "code",
   "execution_count": 15,
   "metadata": {},
   "outputs": [
    {
     "name": "stdout",
     "output_type": "stream",
     "text": [
      "Hola mundo\n"
     ]
    }
   ],
   "source": [
    "print(Back.WHITE + Fore.BLACK + \"Hola mundo\")\n",
    "print(Style.RESET_ALL, end=\"\")"
   ]
  },
  {
   "cell_type": "code",
   "execution_count": 1,
   "metadata": {},
   "outputs": [],
   "source": [
    "import sys\n",
    "sys.path.append('../')\n",
    "from sudokus_manager.sudoku import Sudoku"
   ]
  },
  {
   "cell_type": "code",
   "execution_count": 2,
   "metadata": {},
   "outputs": [],
   "source": [
    "sudo = Sudoku()\n",
    "sudo.create_sudoku()"
   ]
  },
  {
   "cell_type": "code",
   "execution_count": 3,
   "metadata": {},
   "outputs": [
    {
     "data": {
      "text/plain": [
       "[[3, 6, 1, 2, 7, 1, 2, 1, 8],\n",
       " [5, 6, 6, 2, 6, 9, 1, 9, 2],\n",
       " [4, 4, 3, 5, 4, 4, 2, 9, 3],\n",
       " [3, 4, 2, 7, 1, 5, 5, 1, 3],\n",
       " [3, 7, 6, 4, 6, 5, 5, 5, 1],\n",
       " [3, 2, 4, 4, 6, 9, 6, 3, 1],\n",
       " [2, 7, 7, 8, 5, 7, 4, 6, 8],\n",
       " [9, 1, 6, 9, 2, 7, 3, 1, 3],\n",
       " [8, 8, 7, 1, 4, 7, 1, 5, 1]]"
      ]
     },
     "execution_count": 3,
     "metadata": {},
     "output_type": "execute_result"
    }
   ],
   "source": [
    "sudo.sudoku"
   ]
  },
  {
   "cell_type": "code",
   "execution_count": 4,
   "metadata": {},
   "outputs": [
    {
     "name": "stdout",
     "output_type": "stream",
     "text": [
      "--------ROWS----------\n",
      "[ 0 ][ 0 ][ 0 ][ 0 ][ 0 ][ 0 ][ 0 ][ 0 ][ 0 ]\n",
      "[ 0 ][ 0 ][ 0 ][ 0 ][ 0 ][ 0 ][ 0 ][ 0 ][ 0 ]\n",
      "[ 0 ][ 0 ][ 0 ][ 0 ][ 0 ][ 0 ][ 0 ][ 0 ][ 0 ]\n",
      "[ 0 ][ 0 ][ 0 ][ 0 ][ 0 ][ 0 ][ 0 ][ 0 ][ 0 ]\n",
      "[ 0 ][ 0 ][ 0 ][ 0 ][ 0 ][ 0 ][ 0 ][ 0 ][ 0 ]\n",
      "[ 0 ][ 0 ][ 0 ][ 0 ][ 0 ][ 0 ][ 0 ][ 0 ][ 0 ]\n",
      "[ 0 ][ 0 ][ 0 ][ 0 ][ 0 ][ 0 ][ 0 ][ 0 ][ 0 ]\n",
      "[ 0 ][ 0 ][ 0 ][ 0 ][ 0 ][ 0 ][ 0 ][ 0 ][ 0 ]\n",
      "[ 0 ][ 0 ][ 0 ][ 0 ][ 0 ][ 0 ][ 0 ][ 0 ][ 0 ]\n",
      "--------COLUMNS----------\n",
      "[ 0 ][ 0 ][ 0 ][ 0 ][ 0 ][ 0 ][ 0 ][ 0 ][ 0 ]\n",
      "[ 0 ][ 0 ][ 0 ][ 0 ][ 0 ][ 0 ][ 0 ][ 0 ][ 0 ]\n",
      "[ 0 ][ 0 ][ 0 ][ 0 ][ 0 ][ 0 ][ 0 ][ 0 ][ 0 ]\n",
      "[ 0 ][ 0 ][ 0 ][ 0 ][ 0 ][ 0 ][ 0 ][ 0 ][ 0 ]\n",
      "[ 0 ][ 0 ][ 0 ][ 0 ][ 0 ][ 0 ][ 0 ][ 0 ][ 0 ]\n",
      "[ 0 ][ 0 ][ 0 ][ 0 ][ 0 ][ 0 ][ 0 ][ 0 ][ 0 ]\n",
      "[ 0 ][ 0 ][ 0 ][ 0 ][ 0 ][ 0 ][ 0 ][ 0 ][ 0 ]\n",
      "[ 0 ][ 0 ][ 0 ][ 0 ][ 0 ][ 0 ][ 0 ][ 0 ][ 0 ]\n",
      "[ 0 ][ 0 ][ 0 ][ 0 ][ 0 ][ 0 ][ 0 ][ 0 ][ 0 ]\n",
      "--------BLOCKS----------\n",
      "[ 0 ][ 0 ][ 0 ][ 0 ][ 0 ][ 0 ][ 0 ][ 0 ][ 0 ]\n",
      "[ 0 ][ 0 ][ 0 ][ 0 ][ 0 ][ 0 ][ 0 ][ 0 ][ 0 ]\n",
      "[ 0 ][ 0 ][ 0 ][ 0 ][ 0 ][ 0 ][ 0 ][ 0 ][ 0 ]\n",
      "[ 0 ][ 0 ][ 0 ][ 0 ][ 0 ][ 0 ][ 0 ][ 0 ][ 0 ]\n",
      "[ 0 ][ 0 ][ 0 ][ 0 ][ 0 ][ 0 ][ 0 ][ 0 ][ 0 ]\n",
      "[ 0 ][ 0 ][ 0 ][ 0 ][ 0 ][ 0 ][ 0 ][ 0 ][ 0 ]\n",
      "[ 0 ][ 0 ][ 0 ][ 0 ][ 0 ][ 0 ][ 0 ][ 0 ][ 0 ]\n",
      "[ 0 ][ 0 ][ 0 ][ 0 ][ 0 ][ 0 ][ 0 ][ 0 ][ 0 ]\n",
      "[ 0 ][ 0 ][ 0 ][ 0 ][ 0 ][ 0 ][ 0 ][ 0 ][ 0 ]\n"
     ]
    }
   ],
   "source": [
    "rows = sudo.inicializate_sudoku(9,9)\n",
    "print(\"--------ROWS----------\")\n",
    "sudo.print_sudoku(rows,1)\n",
    "columns = sudo.inicializate_sudoku(9,9)\n",
    "print(\"--------COLUMNS----------\")\n",
    "sudo.print_sudoku(columns,2)\n",
    "blocks = sudo.inicializate_sudoku(9,9)\n",
    "print(\"--------BLOCKS----------\")\n",
    "sudo.print_sudoku(blocks,3)"
   ]
  },
  {
   "cell_type": "code",
   "execution_count": 5,
   "metadata": {},
   "outputs": [],
   "source": [
    "import numpy as np"
   ]
  },
  {
   "cell_type": "code",
   "execution_count": 6,
   "metadata": {},
   "outputs": [],
   "source": [
    "list = []\n",
    "grid3 = int(len(sudo.sudoku)/3)\n",
    "for f, da in enumerate(sudo.sudoku):\n",
    "    for c, dat in enumerate(sudo.sudoku):\n",
    "        if ((f < grid3) and (c < grid3)):\n",
    "            list.append(sudo.sudoku[f][c])"
   ]
  },
  {
   "cell_type": "code",
   "execution_count": 7,
   "metadata": {},
   "outputs": [
    {
     "data": {
      "text/plain": [
       "[3, 6, 1, 5, 6, 6, 4, 4, 3]"
      ]
     },
     "execution_count": 7,
     "metadata": {},
     "output_type": "execute_result"
    }
   ],
   "source": [
    "list"
   ]
  },
  {
   "cell_type": "code",
   "execution_count": 8,
   "metadata": {},
   "outputs": [],
   "source": [
    "f = 3\n",
    "c = 6\n",
    "rows[f] = sudo.sudoku[f]\n",
    "blocks[0] = list\n",
    "trans = np.transpose(sudo.sudoku)\n",
    "col = np.transpose(columns)\n",
    "col[c] = trans[c]\n",
    "columns = np.transpose(col)"
   ]
  },
  {
   "cell_type": "code",
   "execution_count": 38,
   "metadata": {},
   "outputs": [
    {
     "data": {
      "text/plain": [
       "([3, 4, 2, 7, 1, 5, 5, 1, 3],\n",
       " array([2, 1, 2, 5, 5, 6, 4, 3, 1]),\n",
       " [3, 6, 1, 5, 6, 6, 4, 4, 3])"
      ]
     },
     "execution_count": 38,
     "metadata": {},
     "output_type": "execute_result"
    }
   ],
   "source": [
    "rows[f], columns2[c], blocks[0]"
   ]
  },
  {
   "cell_type": "code",
   "execution_count": 19,
   "metadata": {},
   "outputs": [],
   "source": [
    "num = 2\n",
    "num_row = num in rows[f]\n",
    "columns2 = np.transpose(columns)\n",
    "num_column = num in columns2[c]\n",
    "num_block = num in blocks[0]"
   ]
  },
  {
   "cell_type": "code",
   "execution_count": 36,
   "metadata": {},
   "outputs": [],
   "source": [
    "counter_row = [0,0,0,0,0,0,0,0,0]\n",
    "counter_column = [0,0,0,0,0,0,0,0,0]\n",
    "counter_block = [0,0,0,0,0,0,0,0,0]\n",
    "\n",
    "for data in rows[f]:\n",
    "    counter_row[data-1] += 1\n",
    "\n",
    "for data in columns2[c]:\n",
    "    counter_column[data-1] += 1\n",
    "    \n",
    "for data in blocks[0]:\n",
    "    counter_block[data-1] += 1"
   ]
  },
  {
   "cell_type": "code",
   "execution_count": 37,
   "metadata": {},
   "outputs": [
    {
     "data": {
      "text/plain": [
       "([2, 1, 2, 1, 2, 0, 1, 0, 0],\n",
       " [2, 2, 1, 1, 2, 1, 0, 0, 0],\n",
       " [1, 0, 2, 2, 1, 3, 0, 0, 0])"
      ]
     },
     "execution_count": 37,
     "metadata": {},
     "output_type": "execute_result"
    }
   ],
   "source": [
    "counter_row, counter_column, counter_block"
   ]
  },
  {
   "cell_type": "markdown",
   "metadata": {},
   "source": [
    "## Numero de prueba es 2"
   ]
  },
  {
   "cell_type": "code",
   "execution_count": 39,
   "metadata": {},
   "outputs": [
    {
     "data": {
      "text/plain": [
       "2"
      ]
     },
     "execution_count": 39,
     "metadata": {},
     "output_type": "execute_result"
    }
   ],
   "source": [
    "num"
   ]
  },
  {
   "cell_type": "code",
   "execution_count": 43,
   "metadata": {},
   "outputs": [
    {
     "data": {
      "text/plain": [
       "(1, 2, 0)"
      ]
     },
     "execution_count": 43,
     "metadata": {},
     "output_type": "execute_result"
    }
   ],
   "source": [
    "counter_row[num-1], counter_column[num-1], counter_block[num-1]"
   ]
  },
  {
   "cell_type": "code",
   "execution_count": 20,
   "metadata": {},
   "outputs": [
    {
     "name": "stdout",
     "output_type": "stream",
     "text": [
      "solo fila y columna verdaderas\n",
      "True True False\n"
     ]
    }
   ],
   "source": [
    "num2 = 0\n",
    "\n",
    "if num_row and num_column and num_block:\n",
    "    print(\"Todas verdaderas\")\n",
    "    print(num_row, num_column, num_block)\n",
    "elif num_row and num_column:\n",
    "    # el numero esta en la columna y en la fila\n",
    "    if counter_row[num-1] == 1 and counter_column[num-1] == 1\n",
    "    print(\"solo fila y columna verdaderas\")\n",
    "    print(num_row, num_column, num_block)\n",
    "elif num_column and num_block:\n",
    "    print(\"solo bloque y columna verdaderas\")\n",
    "    print(num_row, num_column, num_block)\n",
    "elif num_row and num_block:\n",
    "    print(\"solo fila y bloque verdaderas\")\n",
    "    print(num_row, num_column, num_block)\n",
    "elif num_row:\n",
    "    print(\"solo fila verdadera\")\n",
    "    print(num_row, num_column, num_block)\n",
    "elif num_column:\n",
    "    print(\"solo columna verdadera\")\n",
    "    print(num_row, num_column, num_block)\n",
    "elif num_block:\n",
    "    print(\"solo bloque verdadera\")\n",
    "    print(num_row, num_column, num_block)\n",
    "else:\n",
    "    return num2\n",
    "    print(\"Todas falsas\")\n",
    "    print(num_row, num_column, num_block)"
   ]
  }
 ],
 "metadata": {
  "kernelspec": {
   "display_name": "Python 3.6.9 64-bit",
   "language": "python",
   "name": "python36964bit16e0228add934a169e11b987cba4bd2b"
  },
  "language_info": {
   "codemirror_mode": {
    "name": "ipython",
    "version": 3
   },
   "file_extension": ".py",
   "mimetype": "text/x-python",
   "name": "python",
   "nbconvert_exporter": "python",
   "pygments_lexer": "ipython3",
   "version": "3.6.9"
  }
 },
 "nbformat": 4,
 "nbformat_minor": 4
}
