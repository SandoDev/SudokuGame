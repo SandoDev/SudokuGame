{
 "cells": [
  {
   "cell_type": "code",
   "execution_count": 79,
   "metadata": {},
   "outputs": [],
   "source": [
    "def generate_subtittle(sub: str, length: int):\n",
    "    \"\"\"Generate a subtittle with specific length\"\"\"\n",
    "    final = \"\"\n",
    "    len_sub = len(sub)\n",
    "    value = length-len_sub\n",
    "    left = 0\n",
    "    rigth = 0\n",
    "    side_value = 0\n",
    "    separator = \"\"\n",
    "    if len_sub < length:\n",
    "        separator = \" \"\n",
    "    elif len_sub == length:\n",
    "        return sub\n",
    "    else:\n",
    "        for i in range(length):\n",
    "            final = final + '-'\n",
    "        return final\n",
    "    \n",
    "    if value % 2 == 0:\n",
    "        side_value = int(value/2)-1\n",
    "        for i in range(length):\n",
    "            if i<side_value:\n",
    "                final = final + \"-\"\n",
    "            elif i >(side_value+len_sub)+1:\n",
    "                final = final + \"-\"\n",
    "            elif (side_value+len_sub)+1 == i:\n",
    "                final = final + separator+sub+separator\n",
    "    else:\n",
    "        left = int((value -1)/2)\n",
    "        rigth = left+1+len_sub\n",
    "        for i in range(length):\n",
    "            if i<left:\n",
    "                final = final + \"-\"\n",
    "            elif i >rigth:\n",
    "                final = final + \"-\"\n",
    "            elif left+1 == i:\n",
    "                final = final + separator+sub+separator\n",
    "                \n",
    "    return final"
   ]
  },
  {
   "cell_type": "code",
   "execution_count": 91,
   "metadata": {},
   "outputs": [
    {
     "data": {
      "text/plain": [
       "'-- hola --'"
      ]
     },
     "execution_count": 91,
     "metadata": {},
     "output_type": "execute_result"
    }
   ],
   "source": [
    "generate_subtittle('hola',10)"
   ]
  }
 ],
 "metadata": {
  "kernelspec": {
   "display_name": "Python 3",
   "language": "python",
   "name": "python3"
  },
  "language_info": {
   "codemirror_mode": {
    "name": "ipython",
    "version": 3
   },
   "file_extension": ".py",
   "mimetype": "text/x-python",
   "name": "python",
   "nbconvert_exporter": "python",
   "pygments_lexer": "ipython3",
   "version": "3.6.9"
  }
 },
 "nbformat": 4,
 "nbformat_minor": 4
}
