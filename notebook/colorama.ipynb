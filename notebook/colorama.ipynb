{
 "cells": [
  {
   "cell_type": "code",
   "execution_count": 8,
   "metadata": {},
   "outputs": [
    {
     "name": "stdout",
     "output_type": "stream",
     "text": [
      "\u001b[31msome red text\n",
      "\u001b[47m\u001b[39mand with a green background\n",
      "\u001b[2mand in dim text\n",
      "\u001b[0mback to normal now\n"
     ]
    }
   ],
   "source": [
    "from colorama import Fore, Back, Style\n",
    "print(Fore.RED + 'some red text')\n",
    "print(Back.WHITE + Fore.RESET + 'and with a green background')\n",
    "print(Style.DIM + 'and in dim text')\n",
    "print(Style.RESET_ALL, end=\"\")\n",
    "print('back to normal now')"
   ]
  },
  {
   "cell_type": "raw",
   "metadata": {},
   "source": [
    "Fore: BLACK, RED, GREEN, YELLOW, BLUE, MAGENTA, CYAN, WHITE, RESET.\n",
    "Back: BLACK, RED, GREEN, YELLOW, BLUE, MAGENTA, CYAN, WHITE, RESET.\n",
    "Style: DIM, NORMAL, BRIGHT, RESET_ALL"
   ]
  }
 ],
 "metadata": {
  "kernelspec": {
   "display_name": "Python 3",
   "language": "python",
   "name": "python3"
  },
  "language_info": {
   "codemirror_mode": {
    "name": "ipython",
    "version": 3
   },
   "file_extension": ".py",
   "mimetype": "text/x-python",
   "name": "python",
   "nbconvert_exporter": "python",
   "pygments_lexer": "ipython3",
   "version": "3.6.9"
  }
 },
 "nbformat": 4,
 "nbformat_minor": 4
}
